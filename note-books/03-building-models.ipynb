{
 "cells": [
  {
   "cell_type": "code",
   "execution_count": 1,
   "id": "445114f2",
   "metadata": {},
   "outputs": [],
   "source": [
    "### Import libraries\n",
    "import numpy as np\n",
    "import pandas as pd\n",
    "from sklearn.model_selection import train_test_split\n",
    "from sklearn.ensemble import RandomForestClassifier\n",
    "from sklearn.ensemble import GradientBoostingClassifier\n",
    "from sklearn.metrics import f1_score\n",
    "from sklearn.preprocessing import MinMaxScaler\n",
    "from sklearn.preprocessing import StandardScaler\n",
    "from imblearn.over_sampling import RandomOverSampler\n",
    "from imblearn.under_sampling import RandomUnderSampler\n",
    "import pickle"
   ]
  },
  {
   "cell_type": "code",
   "execution_count": 2,
   "id": "d89b01e8",
   "metadata": {},
   "outputs": [],
   "source": [
    "### Some functions to make things faster and clean"
   ]
  },
  {
   "cell_type": "code",
   "execution_count": 3,
   "id": "d4db1b20",
   "metadata": {},
   "outputs": [],
   "source": [
    "def scaler(method, x_data):\n",
    "    if method == \"minmax\":\n",
    "        minmax = MinMaxScaler()\n",
    "        x_scaled = minmax.fit_transform(x_data)\n",
    "    elif method == \"standard\":\n",
    "        standard = StandardScaler()\n",
    "        x_scaled = standard.fit_transform(x_data)\n",
    "    return x_scaled"
   ]
  },
  {
   "cell_type": "code",
   "execution_count": 4,
   "id": "bb019cf0",
   "metadata": {},
   "outputs": [],
   "source": [
    "def sampler(method, x_data, y_data):\n",
    "    if method == \"over\":\n",
    "        over_sampler = RandomOverSampler(random_state = 0)\n",
    "        X_resampled, y_resampled = over_sampler.fit_resample(x_data, y_data)\n",
    "    elif method == \"under\":\n",
    "        under_sampler = RandomUnderSampler(random_state = 0)\n",
    "        X_resampled, y_resampled = under_sampler.fit_resample(x_data, y_data)\n",
    "    return X_resampled, y_resampled"
   ]
  },
  {
   "cell_type": "code",
   "execution_count": 5,
   "id": "d459e26f",
   "metadata": {},
   "outputs": [],
   "source": [
    "def rand_forest(depth, x_data, y_data, metric=\"f1\"):\n",
    "    random_forest = RandomForestClassifier(random_state = 0, max_depth = 3)\n",
    "    X_train, X_test, y_train, y_test = train_test_split(x_data, y_data, random_state=0)\n",
    "    random_forest.fit(X_train, y_train)\n",
    "    if metric == \"f1\":\n",
    "        y_pred = random_forest.predict(X_test)\n",
    "        score = f1_score(y_test, y_pred)\n",
    "    else:\n",
    "        score = random_forest.score(X_test, y_test)\n",
    "    return score"
   ]
  },
  {
   "cell_type": "code",
   "execution_count": 6,
   "id": "2ef6c6ee",
   "metadata": {},
   "outputs": [],
   "source": [
    "df = pd.read_csv(\"../data/stroke-data-preprocessed.csv\", index_col = 0)"
   ]
  },
  {
   "cell_type": "code",
   "execution_count": 7,
   "id": "6877798b",
   "metadata": {
    "scrolled": true
   },
   "outputs": [
    {
     "data": {
      "text/html": [
       "<div>\n",
       "<style scoped>\n",
       "    .dataframe tbody tr th:only-of-type {\n",
       "        vertical-align: middle;\n",
       "    }\n",
       "\n",
       "    .dataframe tbody tr th {\n",
       "        vertical-align: top;\n",
       "    }\n",
       "\n",
       "    .dataframe thead th {\n",
       "        text-align: right;\n",
       "    }\n",
       "</style>\n",
       "<table border=\"1\" class=\"dataframe\">\n",
       "  <thead>\n",
       "    <tr style=\"text-align: right;\">\n",
       "      <th></th>\n",
       "      <th>gender</th>\n",
       "      <th>age</th>\n",
       "      <th>hypertension</th>\n",
       "      <th>heart_disease</th>\n",
       "      <th>ever_married</th>\n",
       "      <th>work_type</th>\n",
       "      <th>Residence_type</th>\n",
       "      <th>avg_glucose_level</th>\n",
       "      <th>bmi</th>\n",
       "      <th>smoking_status</th>\n",
       "      <th>stroke</th>\n",
       "    </tr>\n",
       "    <tr>\n",
       "      <th>id</th>\n",
       "      <th></th>\n",
       "      <th></th>\n",
       "      <th></th>\n",
       "      <th></th>\n",
       "      <th></th>\n",
       "      <th></th>\n",
       "      <th></th>\n",
       "      <th></th>\n",
       "      <th></th>\n",
       "      <th></th>\n",
       "      <th></th>\n",
       "    </tr>\n",
       "  </thead>\n",
       "  <tbody>\n",
       "    <tr>\n",
       "      <th>9046</th>\n",
       "      <td>1</td>\n",
       "      <td>67.0</td>\n",
       "      <td>0</td>\n",
       "      <td>1</td>\n",
       "      <td>1</td>\n",
       "      <td>2</td>\n",
       "      <td>1</td>\n",
       "      <td>228.69</td>\n",
       "      <td>36.60</td>\n",
       "      <td>0</td>\n",
       "      <td>1</td>\n",
       "    </tr>\n",
       "    <tr>\n",
       "      <th>51676</th>\n",
       "      <td>0</td>\n",
       "      <td>61.0</td>\n",
       "      <td>0</td>\n",
       "      <td>0</td>\n",
       "      <td>1</td>\n",
       "      <td>3</td>\n",
       "      <td>0</td>\n",
       "      <td>202.21</td>\n",
       "      <td>31.45</td>\n",
       "      <td>1</td>\n",
       "      <td>1</td>\n",
       "    </tr>\n",
       "    <tr>\n",
       "      <th>31112</th>\n",
       "      <td>1</td>\n",
       "      <td>80.0</td>\n",
       "      <td>0</td>\n",
       "      <td>1</td>\n",
       "      <td>1</td>\n",
       "      <td>2</td>\n",
       "      <td>0</td>\n",
       "      <td>105.92</td>\n",
       "      <td>32.50</td>\n",
       "      <td>1</td>\n",
       "      <td>1</td>\n",
       "    </tr>\n",
       "    <tr>\n",
       "      <th>60182</th>\n",
       "      <td>0</td>\n",
       "      <td>49.0</td>\n",
       "      <td>0</td>\n",
       "      <td>0</td>\n",
       "      <td>1</td>\n",
       "      <td>2</td>\n",
       "      <td>1</td>\n",
       "      <td>171.23</td>\n",
       "      <td>34.40</td>\n",
       "      <td>2</td>\n",
       "      <td>1</td>\n",
       "    </tr>\n",
       "    <tr>\n",
       "      <th>1665</th>\n",
       "      <td>0</td>\n",
       "      <td>79.0</td>\n",
       "      <td>1</td>\n",
       "      <td>0</td>\n",
       "      <td>1</td>\n",
       "      <td>3</td>\n",
       "      <td>0</td>\n",
       "      <td>174.12</td>\n",
       "      <td>24.00</td>\n",
       "      <td>1</td>\n",
       "      <td>1</td>\n",
       "    </tr>\n",
       "  </tbody>\n",
       "</table>\n",
       "</div>"
      ],
      "text/plain": [
       "       gender   age  hypertension  heart_disease  ever_married  work_type  \\\n",
       "id                                                                          \n",
       "9046        1  67.0             0              1             1          2   \n",
       "51676       0  61.0             0              0             1          3   \n",
       "31112       1  80.0             0              1             1          2   \n",
       "60182       0  49.0             0              0             1          2   \n",
       "1665        0  79.0             1              0             1          3   \n",
       "\n",
       "       Residence_type  avg_glucose_level    bmi  smoking_status  stroke  \n",
       "id                                                                       \n",
       "9046                1             228.69  36.60               0       1  \n",
       "51676               0             202.21  31.45               1       1  \n",
       "31112               0             105.92  32.50               1       1  \n",
       "60182               1             171.23  34.40               2       1  \n",
       "1665                0             174.12  24.00               1       1  "
      ]
     },
     "execution_count": 7,
     "metadata": {},
     "output_type": "execute_result"
    }
   ],
   "source": [
    "df.head()"
   ]
  },
  {
   "cell_type": "code",
   "execution_count": 8,
   "id": "add03102",
   "metadata": {},
   "outputs": [],
   "source": [
    "# Determine X and y\n",
    "X = df.drop(\"stroke\", axis = 1)\n",
    "y = df[\"stroke\"]"
   ]
  },
  {
   "cell_type": "code",
   "execution_count": 9,
   "id": "ec12c057",
   "metadata": {},
   "outputs": [
    {
     "data": {
      "text/plain": [
       "0.0"
      ]
     },
     "execution_count": 9,
     "metadata": {},
     "output_type": "execute_result"
    }
   ],
   "source": [
    "# perform a random forest model on our data\n",
    "rand_forest(3, X, y)"
   ]
  },
  {
   "cell_type": "code",
   "execution_count": 10,
   "id": "83f85465",
   "metadata": {},
   "outputs": [],
   "source": [
    "### Handle imbalanced data by sampling"
   ]
  },
  {
   "cell_type": "code",
   "execution_count": 11,
   "id": "34590f72",
   "metadata": {},
   "outputs": [
    {
     "name": "stdout",
     "output_type": "stream",
     "text": [
      "0.81\n"
     ]
    }
   ],
   "source": [
    "# Over sampling\n",
    "X_sampled, y_sampled = sampler(\"over\", X, y)\n",
    "result = rand_forest(3, X_sampled, y_sampled)\n",
    "print(f\"{result:.2}\")"
   ]
  },
  {
   "cell_type": "code",
   "execution_count": 12,
   "id": "f3749ab6",
   "metadata": {},
   "outputs": [
    {
     "name": "stdout",
     "output_type": "stream",
     "text": [
      "0.83\n"
     ]
    }
   ],
   "source": [
    "# Under sampling\n",
    "X_sampled, y_sampled = sampler(\"under\", X, y)\n",
    "result = rand_forest(3, X_sampled, y_sampled)\n",
    "print(f\"{result:.2}\")"
   ]
  },
  {
   "cell_type": "code",
   "execution_count": 13,
   "id": "857a078d",
   "metadata": {},
   "outputs": [],
   "source": [
    "### Let's see if scaling will effect or not"
   ]
  },
  {
   "cell_type": "code",
   "execution_count": 14,
   "id": "7bb43fd7",
   "metadata": {},
   "outputs": [
    {
     "name": "stdout",
     "output_type": "stream",
     "text": [
      "0.83\n"
     ]
    }
   ],
   "source": [
    "# Min Max scaler\n",
    "X_scaled = scaler(\"minmax\", X_sampled)\n",
    "result = rand_forest(3, X_scaled, y_sampled)\n",
    "print(f\"{result:.2}\")"
   ]
  },
  {
   "cell_type": "code",
   "execution_count": 15,
   "id": "427e9e6c",
   "metadata": {},
   "outputs": [
    {
     "name": "stdout",
     "output_type": "stream",
     "text": [
      "0.83\n"
     ]
    }
   ],
   "source": [
    "# Standard scaler\n",
    "X_scaled = scaler(\"standard\", X_sampled)\n",
    "result = rand_forest(3, X_scaled, y_sampled)\n",
    "print(f\"{result:.2}\")"
   ]
  },
  {
   "cell_type": "code",
   "execution_count": 16,
   "id": "2faa7237",
   "metadata": {},
   "outputs": [],
   "source": [
    "# So scaling is not necesseary."
   ]
  },
  {
   "cell_type": "code",
   "execution_count": 17,
   "id": "4f4cf21f",
   "metadata": {},
   "outputs": [
    {
     "name": "stdout",
     "output_type": "stream",
     "text": [
      "F1 Score is: 0.83\n"
     ]
    }
   ],
   "source": [
    "# Create the object model after our experiments\n",
    "random_forest = RandomForestClassifier(random_state = 0, max_depth = 3)\n",
    "# Determine X and y\n",
    "X = df.drop(\"stroke\", axis = 1)\n",
    "y = df[\"stroke\"]\n",
    "# Under sampling\n",
    "X_sampled, y_sampled = sampler(\"under\", X, y)\n",
    "# Split the data\n",
    "X_train, X_test, y_train, y_test = train_test_split(X_sampled, y_sampled, random_state=0)\n",
    "random_forest.fit(X_train, y_train)\n",
    "y_pred = random_forest.predict(X_test)\n",
    "score = f1_score(y_test, y_pred)\n",
    "print(f\"F1 Score is: {score:.2}\")"
   ]
  },
  {
   "cell_type": "code",
   "execution_count": 18,
   "id": "840654ac",
   "metadata": {},
   "outputs": [],
   "source": [
    "# Keep the Model to use in production\n",
    "with open(\"../results/model.pckl\", \"wb\") as f:\n",
    "    f.write(pickle.dumps(random_forest))"
   ]
  }
 ],
 "metadata": {
  "kernelspec": {
   "display_name": "Python 3 (ipykernel)",
   "language": "python",
   "name": "python3"
  },
  "language_info": {
   "codemirror_mode": {
    "name": "ipython",
    "version": 3
   },
   "file_extension": ".py",
   "mimetype": "text/x-python",
   "name": "python",
   "nbconvert_exporter": "python",
   "pygments_lexer": "ipython3",
   "version": "3.10.12"
  }
 },
 "nbformat": 4,
 "nbformat_minor": 5
}
